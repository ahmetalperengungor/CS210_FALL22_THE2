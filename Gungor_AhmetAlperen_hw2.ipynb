{
  "nbformat": 4,
  "nbformat_minor": 0,
  "metadata": {
    "colab": {
      "provenance": [],
      "collapsed_sections": []
    },
    "kernelspec": {
      "name": "python3",
      "display_name": "Python 3"
    },
    "language_info": {
      "name": "python"
    }
  },
  "cells": [
    {
      "cell_type": "markdown",
      "source": [
        "# Homework 2 - Data Wrangling\n",
        "\n",
        "\n",
        "*In this homework, you are going to work on a real-world dataset and perform some data transformations. We suggest you start the homework early.*\n",
        "\n",
        "**Submission Instructions**\n",
        "\n",
        "---\n",
        "It is important that you follow the submission instructions. \n",
        "1. Copy this assignment notebook to your Drive. <font color = 'red'> `File` --> `Save a copy in Drive`</font>. Rename it as <font color = 'green'>`Lastname_Firstname_hw2`</font>.\n",
        "\n",
        "2. Write your solutions in the cells  marked as <font color = 'green'>`# your code`</font>.\n",
        "\n",
        "3. **Do not delete your outputs**. They are essential for the grading. Make sure that cells containing your solutions are executed, and the results are displayed on the notebook.\n",
        "\n",
        "4. When you're done please submit your solutions as an <font color=\"red\">`.ipynb`</font> file. To do so:\n",
        "\n",
        "\n",
        "  a. Click on <font color=\"red\">`File`</font>  at the top left on the Colab screen, then click on <font color = 'red'>`Download .ipynb`</font>.\n",
        "\n",
        "  b. Then submit the downloaded <font color=\"red\">`.ipynb`</font> version of your work on SUCourse.\n",
        "\n",
        "\n",
        "For any question, please use the discussion page on Sucourse.\n",
        "\n",
        "---\n",
        "\n",
        "**Important Note: In this homework, you are not allowed to use Pandas.**"
      ],
      "metadata": {
        "id": "bzLXvNMN_gYM"
      }
    },
    {
      "cell_type": "markdown",
      "source": [
        "In this homework, you will work on a dataset from [Kaggle-Medium-2021-Data-Science-Articles](https://www.kaggle.com/datasets/viniciuslambert/medium-2021-data-science-articles-dataset). The dataset contains information on data science articles shared on Medium.com in 2021.\n",
        "\n",
        "For this homework, you will use the provided file `Medium_DS_Articles_2021_Dataset.csv`. This is a modified version of the original dataset.\n",
        "<!-- This is not the original data file, we modified and eliminated some parts. -->\n",
        "\n",
        "In the dataset, each row has 7 attribute values separated with `,`. These attributes are described in the list below with their respective order in the dataset.\n",
        "\n",
        "\n",
        "  1.   **url:** Refers to the url of the article\n",
        "\n",
        "  2.   **author:** Who has written the article\n",
        "\n",
        "  3.   **claps** Similar to \"Likes\" on Social Media\n",
        "\n",
        "  4.   **responses:** Comments written to the articles\n",
        "  \n",
        "  5.   **reading_time:** Reading time of articles recorded by Medium.com (In minutes)\n",
        "  \n",
        "  6.   **date:** The date the article was written\n",
        "\n",
        "\n",
        "A snapshot from the dataset containing three sample rows is also provided below.\n",
        "```\n",
        "['https://medium.com/@sellforte-insights/bayesian-data-analysis-a-brave-new-world-of-statistics-1fc3167812d7','sellforte-insights', '0.0', '0.0', '9-min', 'Data Science','2021-05-19']\n",
        "['https://towardsdatascience.com/how-to-improve-deep-learning-forecasts-for-time-series-part-2-c11efc8dfee2','michaelberk', '106.0', '0.0', '5-min', 'Machine Learning','2021-10-26']\n",
        "['https://medium.com/@paulshin17/intro-on-linear-regression-using-keras-predicting-real-estate-price-f0e94de1b912','paulshin17', '107.0', '0.0', '6-min', 'Data Science','2021-10-18']\n",
        "...\n",
        "```\n",
        "\n",
        "*Do not forget to add the shared `Medium_DS_Articles_2021_Dataset.csv` file to your drive and mount to your drive. Otherwise, you won't be able to read the file.*\n",
        "\n",
        "**!!!IMPORTANT: You are not allowed to use `pandas` in this homework**"
      ],
      "metadata": {
        "id": "kfiyUPnr_jYG"
      }
    },
    {
      "cell_type": "code",
      "source": [
        "from google.colab import drive\n",
        "drive.mount('./drive', force_remount=True)\n",
        "\n",
        "path_prefix = './drive/My Drive'"
      ],
      "metadata": {
        "colab": {
          "base_uri": "https://localhost:8080/"
        },
        "id": "EVlcLWud_ist",
        "outputId": "1e76b0d5-ba86-4a14-f83e-a522e64015dc"
      },
      "execution_count": 128,
      "outputs": [
        {
          "output_type": "stream",
          "name": "stdout",
          "text": [
            "Mounted at ./drive\n"
          ]
        }
      ]
    },
    {
      "cell_type": "code",
      "source": [
        "import numpy as np\n",
        "import matplotlib.pyplot as plt\n",
        "import re\n",
        "\n",
        "%matplotlib inline"
      ],
      "metadata": {
        "id": "30e5ET0u_rKp"
      },
      "execution_count": 130,
      "outputs": []
    },
    {
      "cell_type": "markdown",
      "source": [
        "## 10 Points - Q1: Read the Dataset\n",
        "\n",
        "In the provided dataset, entries are separated by commas. Read and store the file as a 2D numpy array. Each column should capture the corresponding fields.\n",
        "\n",
        "- Read the given file into a numpy array.\n",
        "- Print the number of rows and columns.\n",
        "- Print the number of unique Tags.\n",
        "\n",
        "Example Output:\n",
        "```\n",
        "Number of rows: 36810, columns: 7\n",
        "Number of unique Tags: 8\n",
        "```\n",
        "\n",
        "*Hint: Do not forget to skip the first line (the header).*"
      ],
      "metadata": {
        "id": "FtwZhhnm_s3r"
      }
    },
    {
      "cell_type": "code",
      "source": [
        "# Your Code\n",
        "from os.path import join\n",
        "pathPrefix = \"./drive/My Drive/\"\n",
        "\n",
        "fileName = \"Medium_DS_Articles_2021_Dataset.csv\"\n",
        "\n",
        "uniqueTags = []\n",
        "tempArray = []\n",
        "numOfTags = 0\n",
        "with open(join(pathPrefix,fileName)) as myFile:\n",
        "  skipFirstLine = myFile.readline().strip()\n",
        "  for line in myFile:\n",
        "    values = line.strip().split(\",\")\n",
        "    tempArray.append([str(value) for value in values])  \n",
        "    if values[5] not in uniqueTags:\n",
        "      uniqueTags.append(values[5])\n",
        "      numOfTags +=1\n",
        "\n",
        "    \n",
        "\n",
        "data = np.array(tempArray)\n",
        "\n",
        "print(\"Number of rows: {}, columns: {}\".format(data.shape[0], data.shape[1]))\n",
        "print(\"Number of unique Tags:\", numOfTags)\n",
        "\n",
        "\n"
      ],
      "metadata": {
        "id": "QyDPMaYz_vJs",
        "colab": {
          "base_uri": "https://localhost:8080/"
        },
        "outputId": "61e73a50-6775-4940-e098-bf45ec0614b8"
      },
      "execution_count": 131,
      "outputs": [
        {
          "output_type": "stream",
          "name": "stdout",
          "text": [
            "Number of rows: 36810, columns: 7\n",
            "Number of unique Tags: 8\n"
          ]
        }
      ]
    },
    {
      "cell_type": "markdown",
      "source": [
        "## 30 Points - Q2: Exploring Dataset"
      ],
      "metadata": {
        "id": "G6iSBqFE_1PI"
      }
    },
    {
      "cell_type": "markdown",
      "source": [
        "### 15 Points - Part A\n",
        "\n",
        "The tag field makes it easy to find the articles on the related topic. Examining the tags used in articles written in 2021 can give us information about which field has become more popular.\n",
        "\n",
        "- Print the name of each unique Tag and its frequency in data from the most frequent to least\n",
        "\n",
        "Example output:\n",
        "```\n",
        "Data Science           -   9033\n",
        "Machine Learning       -   7732\n",
        "Artificial Inteligence -   7552\n",
        "Data                   -   4810\n",
        "Deep Learning          -   2903\n",
        "X                      -   1674\n",
        "Big Data               -   1579\n",
        "Analytics              -   1527\n",
        "```"
      ],
      "metadata": {
        "id": "_9qqI1_X_3i0"
      }
    },
    {
      "cell_type": "code",
      "source": [
        "# Your Code\n",
        "\n",
        "tags = {}\n",
        "\n",
        "for line in data:\n",
        "  if line[5] not in tags:\n",
        "    tags[line[5]] = 1\n",
        "  else:\n",
        "    tags[line[5]] +=1\n",
        "\n",
        "sortedTags = sorted(tags.items(), key=lambda item: item[1], reverse=True)\n",
        "for i in range(len(sortedTags)):\n",
        "  print('{:<22}  {:<1}  {:<4}'.format(sortedTags[i][0], \"-\", sortedTags[i][1]),sep='')"
      ],
      "metadata": {
        "id": "wU1NkEAM_6ee",
        "colab": {
          "base_uri": "https://localhost:8080/"
        },
        "outputId": "d8440550-f141-4d20-a154-060146507338"
      },
      "execution_count": 132,
      "outputs": [
        {
          "output_type": "stream",
          "name": "stdout",
          "text": [
            "Data Science            -  9033\n",
            "Machine Learning        -  7732\n",
            "Artificial Inteligence  -  7552\n",
            "Data                    -  4810\n",
            "Deep Learning           -  2903\n",
            "X                       -  1674\n",
            "Big Data                -  1579\n",
            "Analytics               -  1527\n"
          ]
        }
      ]
    },
    {
      "cell_type": "markdown",
      "source": [
        "### 15 Points - Part B\n",
        "\n",
        "When we examined the frequency of the tags, we learned that more articles were written about which topic. But there is a tag called '**X**' and we don't know what it means. We may want to check the rows containing this Tag and examine what they are. When we examine these, we see they all have the similar structure and there is something strange in the '**date**' field. We want you to rearrange these corrupted date fields so that every '**date**' value in the same format.\n",
        "\n",
        "**Note:** Some of the examples can be seen below where %Y represents years (e.g. 2022, 2021), %m month as a zero-padded decimal number (e.g. 07, 08) and %d day of the month as a zero-padded decimal number (e.g. 01, 03). You may assume that the order of date elements is always the same in the raw data: %Y %m %d.\n",
        "\n",
        "\n",
        "Corrupted Date formats are as follows:\n",
        "```\n",
        "'(%Y)::(%m)::(%d)', \n",
        "'%Y %m %d'\n",
        "```\n",
        "You **MUST** use **regular expressions** for this question. (Use the **re** library of Python)\n",
        "- Write a **function** that checks the format of date feature and returns True if all observations are in the expected format, otherwise returns False.\n",
        "    - **Name of the function**: validate_date_format\n",
        "    - **Input**: Date column\n",
        "    - **Output**: True if all date values are in the expected format (%Y-%m-%d --- 2022-10-22), otherwise False\n",
        "- Then, convert the **date** feature to the expected format.\n",
        "\n",
        "```\n",
        "Expected Date Format: '%Y-%m-%d' --> '2022-10-22'\n",
        "```"
      ],
      "metadata": {
        "id": "xOlWyha___nz"
      }
    },
    {
      "cell_type": "code",
      "source": [
        "# Your Code\n",
        "\n",
        "import re\n",
        "\n",
        "def validate_date_format(datecolumn):\n",
        "  checker = True\n",
        "  for i in datecolumn:\n",
        "    if re.search(r\"\\-\", str(datecolumn)) == None:\n",
        "      checker = False\n",
        "    else:\n",
        "      checker = True\n",
        "\n",
        "    ''' this part is checking validity without using regex\n",
        "    if(i[4]!=\"-\" or i[7]!=\"-\"):\n",
        "      checker = False\n",
        "    else:\n",
        "      checker = True\n",
        "    '''\n",
        "  return checker\n",
        "\n",
        "for line in data:\n",
        " \n",
        "  if line[5] == \"X\":\n",
        "    if re.match(r\"^\\(\", line[6]):\n",
        "      tempStr = line[6][1:5] + \"-\" + line[6][9:11] + \"-\" + line[6][15:17]\n",
        "      line[6] = tempStr\n",
        "    else:\n",
        "      line[6] = line[6].replace(\" \", \"-\", 2)\n",
        "\n",
        "validate_date_format(data[:,6])\n",
        "\n"
      ],
      "metadata": {
        "id": "VlSC1Ja-ACSz",
        "colab": {
          "base_uri": "https://localhost:8080/"
        },
        "outputId": "89dd2bd3-20be-454f-a9dd-eac89a4c8d5b"
      },
      "execution_count": 133,
      "outputs": [
        {
          "output_type": "execute_result",
          "data": {
            "text/plain": [
              "True"
            ]
          },
          "metadata": {},
          "execution_count": 133
        }
      ]
    },
    {
      "cell_type": "markdown",
      "source": [
        "## 20 Points - Q3: Cleaning Data\n",
        "\n",
        "We learned that there are some removed articles. In Q2 Part B, we rearranged the format of the date feature. In this part, we will examine in which month more articles were deleted.\n",
        "\n",
        "- Display the total number of deleted articles per each month as a bar chart\n",
        "- At the end, delete these removed articles from the dataset\n",
        "\n"
      ],
      "metadata": {
        "id": "eB8OLrnJAIKa"
      }
    },
    {
      "cell_type": "code",
      "source": [
        "# Your Code\n",
        "\n",
        "deletedMonthCount = {}\n",
        "ctr = 0\n",
        "\n",
        "newDataTemp = []\n",
        "for line in data:\n",
        "  if (line[5] == \"X\"):\n",
        "    currentMonth = int(line[6][5:7])\n",
        "    if currentMonth not in deletedMonthCount:\n",
        "      deletedMonthCount[currentMonth] = 1\n",
        "    else:\n",
        "      deletedMonthCount[currentMonth] += 1\n",
        "\n",
        "  else:\n",
        "    newDataTemp.append(line)\n",
        "\n",
        "data = np.array(newDataTemp)\n",
        "    \n",
        "sortedMonths = sorted(deletedMonthCount.items(), key=lambda item: item[0], reverse=False)\n",
        "sortedMonthsNP = np.array(sortedMonths)\n",
        "\n",
        "monthsChart = [\"Jan.\", \"Feb.\", \"Mar.\", \"Apr.\", \"May\", \"Jun.\", \"Jul.\", \"Aug.\", \"Sep.\", \"Oct.\", \"Nov.\", \"Dec.\"]\n",
        "valuesChart = sortedMonthsNP[:,1]\n",
        "\n",
        "plt.bar(monthsChart,valuesChart, color = \"red\")\n",
        "plt.xlabel(\"Months\")\n",
        "plt.ylabel(\"Number of deleted articles\")\n",
        "plt.title(\"Total number of deleted articles per each month\")\n",
        "\n",
        "plt.show()\n"
      ],
      "metadata": {
        "id": "6mBB_RZuAKk2",
        "colab": {
          "base_uri": "https://localhost:8080/",
          "height": 295
        },
        "outputId": "2bfc2434-6677-44ba-c551-2eb413b20b00"
      },
      "execution_count": 134,
      "outputs": [
        {
          "output_type": "display_data",
          "data": {
            "text/plain": [
              "<Figure size 432x288 with 1 Axes>"
            ],
            "image/png": "[encoded data removed]"
          },
          "metadata": {
            "needs_background": "light"
          }
        }
      ]
    },
    {
      "cell_type": "markdown",
      "source": [
        "## 40 Points - Q4: Features of Medium Articles"
      ],
      "metadata": {
        "id": "T1Fc4ZoXAPiX"
      }
    },
    {
      "cell_type": "markdown",
      "source": [
        "### 10 Points - Part A\n",
        "\n",
        "In this question, we will examine the different features of the articles on Medium. In Q3, we deleted the removed articles to examine the data that is not missing. First, let's check the new shape of our dataset.\n",
        "\n",
        "- Print the new number of rows and columns after dropping missing values.\n",
        "\n",
        "Medium has reading times calculated automatically by the site's own method which you can find in data. Take a quick look at the basic statistical information of this feature. \n",
        "\n",
        "- Print the maximum, minimum and average reading time of articles\n",
        "\n",
        "Example Output:\n",
        "```\n",
        "After cleaning, Number of rows: 35136, columns: 7\n",
        "Maximum reading time: 131.0\n",
        "Minimum reading time: 0.0\n",
        "Average reading time: 5.041182832422587\n",
        "```"
      ],
      "metadata": {
        "id": "qHnRYpO-ATY1"
      }
    },
    {
      "cell_type": "code",
      "source": [
        "# Your Code\n",
        "\n",
        "print(\"After cleaning, Number of rows: {}, columns: {}\".format(data.shape[0], data.shape[1]))\n",
        "\n",
        "tempArr = []\n",
        "\n",
        "for x in data[:,4]:\n",
        "  slashIdx = x.find(\"-\")\n",
        "  tempVal = x[:slashIdx]\n",
        "  tempArr.append(float(tempVal))\n",
        "\n",
        "readTimeData = np.array(tempArr)\n",
        "\n",
        "minVal = np.max(readTimeData)\n",
        "maxVal = np.min(readTimeData)\n",
        "sumVal = np.sum(readTimeData)\n",
        "\n",
        "print(\"Maximum reading time: {}\\nMinimum reading time: {}\\nAverage reading time: {}\". format(minVal, maxVal, (sumVal/data.shape[0])))\n"
      ],
      "metadata": {
        "id": "KCcTd0SyAVoi",
        "colab": {
          "base_uri": "https://localhost:8080/"
        },
        "outputId": "3d0ba587-9ebf-409a-ad18-85362d913228"
      },
      "execution_count": 135,
      "outputs": [
        {
          "output_type": "stream",
          "name": "stdout",
          "text": [
            "After cleaning, Number of rows: 35136, columns: 7\n",
            "Maximum reading time: 131.0\n",
            "Minimum reading time: 0.0\n",
            "Average reading time: 5.041182832422587\n"
          ]
        }
      ]
    },
    {
      "cell_type": "markdown",
      "source": [
        "### 30 Points - Part B: Conditional Probability\n",
        "\n",
        "Claps and Responses show how many interaction an article get similar to likes and comments. We can find out which tag is likely to receive more interaction.\n",
        "\n",
        "$\\DeclareMathOperator*{\\argmax}{argmax} \\argmax\\limits_{\\small{tag} \\, \\in \\, \\text{Tag Category}}\\;P(\\text{Interaction}=\\text{1}|\\text{Tag Category}=\\text{tag})$\n",
        "\n",
        "- Add new column to data which shows '**interaction**' and its value is 1 if there is any interaction, otherwise 0.\n",
        "- For each tag category, calculate the conditional probability shown in the equation below.\n",
        "- Report the tag category that returns the highest conditional probability. \n",
        "- Print the tag category and its probability value.\n",
        "\n",
        "**Example Output:**\n",
        "```\n",
        "Data Science - 0.8334993911214437\n",
        "```"
      ],
      "metadata": {
        "id": "VhSXktqrAb8s"
      }
    },
    {
      "cell_type": "code",
      "source": [
        "# Your Code\n",
        "\n",
        "newTempArr = []\n",
        "tagInteraction = {}\n",
        "\n",
        "for line in data:\n",
        "  \n",
        "  interaction = 0\n",
        "  checker = 1\n",
        " \n",
        "  if line[2] != \"0.0\" or line[3] != \"0.0\":\n",
        "    interaction = 1\n",
        "  \n",
        "  arr = np.array(line)\n",
        "  arr = np.insert(arr,len(arr) , interaction)\n",
        "  newTempArr.append([value for value in arr])  \n",
        "\n",
        "newDataNP = np.array(newTempArr)\n",
        "\n",
        "for line in newDataNP:\n",
        "\n",
        "  if int(line[7]) == 1 and line[5] not in tagInteraction:\n",
        "    tagInteraction[line[5]] = 1\n",
        "   \n",
        "    \n",
        "  elif int(line[7]) == 1 and line[5] in tagInteraction:\n",
        "    tagInteraction[line[5]] += 1\n",
        "    \n",
        "\n",
        "sortedTagInteraction = sorted(tagInteraction.items(), key=lambda item: item[1], reverse=True)\n",
        "\n",
        "print(sortedTagInteraction[0][0], \"-\", sortedTagInteraction[0][1]/tags[sortedTagInteraction[0][0]])"
      ],
      "metadata": {
        "id": "-SpHMvbAAcZs",
        "colab": {
          "base_uri": "https://localhost:8080/"
        },
        "outputId": "b1e57c7c-64b1-418b-832e-99a442913b48"
      },
      "execution_count": 136,
      "outputs": [
        {
          "output_type": "stream",
          "name": "stdout",
          "text": [
            "Data Science - 0.8334993911214436\n"
          ]
        }
      ]
    }
  ]
}